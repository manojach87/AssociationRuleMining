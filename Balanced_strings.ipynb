{
  "nbformat": 4,
  "nbformat_minor": 0,
  "metadata": {
    "colab": {
      "name": "Balanced strings.ipynb",
      "provenance": [],
      "authorship_tag": "ABX9TyP35IqQlZ6HSwvBUfqYHIG0",
      "include_colab_link": true
    },
    "kernelspec": {
      "name": "python3",
      "display_name": "Python 3"
    }
  },
  "cells": [
    {
      "cell_type": "markdown",
      "metadata": {
        "id": "view-in-github",
        "colab_type": "text"
      },
      "source": [
        "<a href=\"https://colab.research.google.com/github/manojach87/AssociationRuleMining/blob/master/Balanced_strings.ipynb\" target=\"_parent\"><img src=\"https://colab.research.google.com/assets/colab-badge.svg\" alt=\"Open In Colab\"/></a>"
      ]
    },
    {
      "cell_type": "markdown",
      "metadata": {
        "id": "GICK9z1DKNfx",
        "colab_type": "text"
      },
      "source": [
        "Balanced strings are those who have equal quantity of 'L' and 'R' characters.\n",
        "\n",
        "Given a balanced string s split it in the maximum amount of balanced strings.\n",
        "\n",
        "Return the maximum amount of splitted balanced strings.\n",
        "\n",
        " \n",
        "\n",
        "Example 1:\n",
        "```\n",
        "Input: s = \"RLRRLLRLRL\"\n",
        "Output: 4\n",
        "```\n",
        "Explanation: s can be split into \"RL\", \"RRLL\", \"RL\", \"RL\", each substring contains same number of 'L' and 'R'.\n",
        "\n",
        "Example 2:\n",
        "```\n",
        "Input: s = \"RLLLLRRRLR\"\n",
        "Output: 3\n",
        "```\n",
        "Explanation: s can be split into \"RL\", \"LLLRRR\", \"LR\", each substring contains same number of 'L' and 'R'.\n",
        "\n",
        "Example 3:\n",
        "```\n",
        "Input: s = \"LLLLRRRR\"\n",
        "Output: 1\n",
        "```\n",
        "Explanation: s can be split into \"LLLLRRRR\".\n",
        "\n",
        "Example 4:\n",
        "```\n",
        "Input: s = \"RLRRRLLRLL\"\n",
        "Output: 2\n",
        "```\n",
        "Explanation: s can be split into \"RL\", \"RRRLLRLL\", since each substring contains an equal number of 'L' and 'R'\n",
        " \n",
        "\n",
        "Constraints:\n",
        "```\n",
        "1 <= s.length <= 1000\n",
        "s[i] = 'L' or 'R'\n",
        "```"
      ]
    },
    {
      "cell_type": "code",
      "metadata": {
        "id": "HSbPLJJCKMiw",
        "colab_type": "code",
        "colab": {}
      },
      "source": [
        ""
      ],
      "execution_count": null,
      "outputs": []
    }
  ]
}